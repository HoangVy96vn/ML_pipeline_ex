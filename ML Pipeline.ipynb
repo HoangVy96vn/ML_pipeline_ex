{
 "cells": [
  {
   "cell_type": "code",
   "execution_count": 3,
   "id": "409af906",
   "metadata": {},
   "outputs": [],
   "source": [
    "from sklearn.pipeline import Pipeline #Pipeline library\n",
    "from sklearn.pipeline import make_pipeline\n",
    "from sklearn import set_config # Use for visualize pipeline\n",
    "from sklearn.compose import ColumnTransformer # for combine processing technqiues\n",
    "\n",
    "\n",
    "#libraries for preprocessing & ML models. \n",
    "from sklearn.preprocessing import StandardScaler\n",
    "from sklearn.linear_model import LogisticRegression\n",
    "\n",
    "#processing\n",
    "from sklearn.model_selection import train_test_split\n",
    "# from sklearn.preprocessing import MinMaxScaler\n",
    "# from sklearn.preprocessing import LabelEncoder\n",
    "from sklearn.preprocessing import OneHotEncoder\n",
    "from sklearn.decomposition import PCA\n",
    "from sklearn.svm import SVC\n",
    "\n",
    "# #Score\n",
    "# from sklearn.metrics import classification_report\n",
    "# from sklearn.metrics import accuracy_score, precision_score, recall_score, f1_score\n",
    "# from sklearn.metrics import mean_squared_error\n",
    "# from sklearn.metrics import accuracy_score\n",
    "# from sklearn.metrics import plot_confusion_matrix\n",
    "\n",
    "\n",
    "# #models\n",
    "# from sklearn import tree\n",
    "# import xgboost as xgb\n",
    "# from sklearn.ensemble import RandomForestClassifier\n",
    "# from sklearn.ensemble import GradientBoostingClassifier\n",
    "# from imblearn.under_sampling import NearMiss\n",
    "# from imblearn.over_sampling import RandomOverSampler\n",
    "# from imblearn.over_sampling import SMOTE\n",
    "\n",
    "# #tuning\n",
    "# from sklearn.model_selection import GridSearchCV\n",
    "# #kfold\n",
    "# from sklearn.model_selection import TimeSeriesSplit\n",
    "\n",
    "#common libraries\n",
    "import pandas as pd\n",
    "import numpy as np\n",
    "# import matplotlib.pyplot as plt\n",
    "# import seaborn as sns\n",
    "from sklearn.impute import SimpleImputer\n",
    "\n",
    "# others\n",
    "from sklearn.datasets import make_classification\n"
   ]
  },
  {
   "cell_type": "markdown",
   "id": "b9a4821d",
   "metadata": {},
   "source": [
    "# Set Steps"
   ]
  },
  {
   "cell_type": "code",
   "execution_count": 5,
   "id": "422064d7",
   "metadata": {},
   "outputs": [
    {
     "data": {
      "text/plain": [
       "[('standard_scaler', StandardScaler()), ('classifier', LogisticRegression())]"
      ]
     },
     "execution_count": 5,
     "metadata": {},
     "output_type": "execute_result"
    }
   ],
   "source": [
    "steps=[(\"standard_scaler\",StandardScaler()),\n",
    "      (\"classifier\",LogisticRegression())]\n",
    "steps"
   ]
  },
  {
   "cell_type": "code",
   "execution_count": 6,
   "id": "2aebcc34",
   "metadata": {},
   "outputs": [
    {
     "data": {
      "text/html": [
       "<style>#sk-818924ad-0619-4aec-97fe-7115d0fad9a2 {color: black;background-color: white;}#sk-818924ad-0619-4aec-97fe-7115d0fad9a2 pre{padding: 0;}#sk-818924ad-0619-4aec-97fe-7115d0fad9a2 div.sk-toggleable {background-color: white;}#sk-818924ad-0619-4aec-97fe-7115d0fad9a2 label.sk-toggleable__label {cursor: pointer;display: block;width: 100%;margin-bottom: 0;padding: 0.3em;box-sizing: border-box;text-align: center;}#sk-818924ad-0619-4aec-97fe-7115d0fad9a2 label.sk-toggleable__label-arrow:before {content: \"▸\";float: left;margin-right: 0.25em;color: #696969;}#sk-818924ad-0619-4aec-97fe-7115d0fad9a2 label.sk-toggleable__label-arrow:hover:before {color: black;}#sk-818924ad-0619-4aec-97fe-7115d0fad9a2 div.sk-estimator:hover label.sk-toggleable__label-arrow:before {color: black;}#sk-818924ad-0619-4aec-97fe-7115d0fad9a2 div.sk-toggleable__content {max-height: 0;max-width: 0;overflow: hidden;text-align: left;background-color: #f0f8ff;}#sk-818924ad-0619-4aec-97fe-7115d0fad9a2 div.sk-toggleable__content pre {margin: 0.2em;color: black;border-radius: 0.25em;background-color: #f0f8ff;}#sk-818924ad-0619-4aec-97fe-7115d0fad9a2 input.sk-toggleable__control:checked~div.sk-toggleable__content {max-height: 200px;max-width: 100%;overflow: auto;}#sk-818924ad-0619-4aec-97fe-7115d0fad9a2 input.sk-toggleable__control:checked~label.sk-toggleable__label-arrow:before {content: \"▾\";}#sk-818924ad-0619-4aec-97fe-7115d0fad9a2 div.sk-estimator input.sk-toggleable__control:checked~label.sk-toggleable__label {background-color: #d4ebff;}#sk-818924ad-0619-4aec-97fe-7115d0fad9a2 div.sk-label input.sk-toggleable__control:checked~label.sk-toggleable__label {background-color: #d4ebff;}#sk-818924ad-0619-4aec-97fe-7115d0fad9a2 input.sk-hidden--visually {border: 0;clip: rect(1px 1px 1px 1px);clip: rect(1px, 1px, 1px, 1px);height: 1px;margin: -1px;overflow: hidden;padding: 0;position: absolute;width: 1px;}#sk-818924ad-0619-4aec-97fe-7115d0fad9a2 div.sk-estimator {font-family: monospace;background-color: #f0f8ff;border: 1px dotted black;border-radius: 0.25em;box-sizing: border-box;margin-bottom: 0.5em;}#sk-818924ad-0619-4aec-97fe-7115d0fad9a2 div.sk-estimator:hover {background-color: #d4ebff;}#sk-818924ad-0619-4aec-97fe-7115d0fad9a2 div.sk-parallel-item::after {content: \"\";width: 100%;border-bottom: 1px solid gray;flex-grow: 1;}#sk-818924ad-0619-4aec-97fe-7115d0fad9a2 div.sk-label:hover label.sk-toggleable__label {background-color: #d4ebff;}#sk-818924ad-0619-4aec-97fe-7115d0fad9a2 div.sk-serial::before {content: \"\";position: absolute;border-left: 1px solid gray;box-sizing: border-box;top: 2em;bottom: 0;left: 50%;}#sk-818924ad-0619-4aec-97fe-7115d0fad9a2 div.sk-serial {display: flex;flex-direction: column;align-items: center;background-color: white;padding-right: 0.2em;padding-left: 0.2em;}#sk-818924ad-0619-4aec-97fe-7115d0fad9a2 div.sk-item {z-index: 1;}#sk-818924ad-0619-4aec-97fe-7115d0fad9a2 div.sk-parallel {display: flex;align-items: stretch;justify-content: center;background-color: white;}#sk-818924ad-0619-4aec-97fe-7115d0fad9a2 div.sk-parallel::before {content: \"\";position: absolute;border-left: 1px solid gray;box-sizing: border-box;top: 2em;bottom: 0;left: 50%;}#sk-818924ad-0619-4aec-97fe-7115d0fad9a2 div.sk-parallel-item {display: flex;flex-direction: column;position: relative;background-color: white;}#sk-818924ad-0619-4aec-97fe-7115d0fad9a2 div.sk-parallel-item:first-child::after {align-self: flex-end;width: 50%;}#sk-818924ad-0619-4aec-97fe-7115d0fad9a2 div.sk-parallel-item:last-child::after {align-self: flex-start;width: 50%;}#sk-818924ad-0619-4aec-97fe-7115d0fad9a2 div.sk-parallel-item:only-child::after {width: 0;}#sk-818924ad-0619-4aec-97fe-7115d0fad9a2 div.sk-dashed-wrapped {border: 1px dashed gray;margin: 0 0.4em 0.5em 0.4em;box-sizing: border-box;padding-bottom: 0.4em;background-color: white;position: relative;}#sk-818924ad-0619-4aec-97fe-7115d0fad9a2 div.sk-label label {font-family: monospace;font-weight: bold;background-color: white;display: inline-block;line-height: 1.2em;}#sk-818924ad-0619-4aec-97fe-7115d0fad9a2 div.sk-label-container {position: relative;z-index: 2;text-align: center;}#sk-818924ad-0619-4aec-97fe-7115d0fad9a2 div.sk-container {/* jupyter's `normalize.less` sets `[hidden] { display: none; }` but bootstrap.min.css set `[hidden] { display: none !important; }` so we also need the `!important` here to be able to override the default hidden behavior on the sphinx rendered scikit-learn.org. See: https://github.com/scikit-learn/scikit-learn/issues/21755 */display: inline-block !important;position: relative;}#sk-818924ad-0619-4aec-97fe-7115d0fad9a2 div.sk-text-repr-fallback {display: none;}</style><div id=\"sk-818924ad-0619-4aec-97fe-7115d0fad9a2\" class=\"sk-top-container\"><div class=\"sk-text-repr-fallback\"><pre>Pipeline(steps=[(&#x27;standard_scaler&#x27;, StandardScaler()),\n",
       "                (&#x27;classifier&#x27;, LogisticRegression())])</pre><b>Please rerun this cell to show the HTML repr or trust the notebook.</b></div><div class=\"sk-container\" hidden><div class=\"sk-item sk-dashed-wrapped\"><div class=\"sk-label-container\"><div class=\"sk-label sk-toggleable\"><input class=\"sk-toggleable__control sk-hidden--visually\" id=\"a2852248-4707-4bfe-9191-8a165897f835\" type=\"checkbox\" ><label for=\"a2852248-4707-4bfe-9191-8a165897f835\" class=\"sk-toggleable__label sk-toggleable__label-arrow\">Pipeline</label><div class=\"sk-toggleable__content\"><pre>Pipeline(steps=[(&#x27;standard_scaler&#x27;, StandardScaler()),\n",
       "                (&#x27;classifier&#x27;, LogisticRegression())])</pre></div></div></div><div class=\"sk-serial\"><div class=\"sk-item\"><div class=\"sk-estimator sk-toggleable\"><input class=\"sk-toggleable__control sk-hidden--visually\" id=\"edf9f108-19f8-41a3-ac43-57c7c0230b74\" type=\"checkbox\" ><label for=\"edf9f108-19f8-41a3-ac43-57c7c0230b74\" class=\"sk-toggleable__label sk-toggleable__label-arrow\">StandardScaler</label><div class=\"sk-toggleable__content\"><pre>StandardScaler()</pre></div></div></div><div class=\"sk-item\"><div class=\"sk-estimator sk-toggleable\"><input class=\"sk-toggleable__control sk-hidden--visually\" id=\"7417e442-d73c-4b89-876b-28466b2151ff\" type=\"checkbox\" ><label for=\"7417e442-d73c-4b89-876b-28466b2151ff\" class=\"sk-toggleable__label sk-toggleable__label-arrow\">LogisticRegression</label><div class=\"sk-toggleable__content\"><pre>LogisticRegression()</pre></div></div></div></div></div></div></div>"
      ],
      "text/plain": [
       "Pipeline(steps=[('standard_scaler', StandardScaler()),\n",
       "                ('classifier', LogisticRegression())])"
      ]
     },
     "execution_count": 6,
     "metadata": {},
     "output_type": "execute_result"
    }
   ],
   "source": [
    "# fit steps to pipeline\n",
    "pipe=Pipeline(steps)\n",
    "set_config(display=\"diagram\") #config pipe as a diagram\n",
    "pipe"
   ]
  },
  {
   "cell_type": "code",
   "execution_count": 8,
   "id": "e9023fce",
   "metadata": {},
   "outputs": [
    {
     "data": {
      "text/plain": [
       "(1000, 20)"
      ]
     },
     "execution_count": 8,
     "metadata": {},
     "output_type": "execute_result"
    }
   ],
   "source": [
    "#make example dataset\n",
    "X,y=make_classification(n_samples=1000)\n",
    "X.shape\n"
   ]
  },
  {
   "cell_type": "code",
   "execution_count": 9,
   "id": "5e746a43",
   "metadata": {},
   "outputs": [],
   "source": [
    "#train/test split\n",
    "X_train, X_test, y_train, y_test = train_test_split(\n",
    "    X, y, test_size=0.33, random_state=42)"
   ]
  },
  {
   "cell_type": "code",
   "execution_count": 10,
   "id": "adb2e583",
   "metadata": {},
   "outputs": [],
   "source": [
    "# Fit train set to pipe\n",
    "pipe.fit(X_train,y_train)\n",
    "\n",
    "#predict test set\n",
    "y_pred=pipe.predict(X_test)\n"
   ]
  },
  {
   "cell_type": "markdown",
   "id": "71e1079c",
   "metadata": {},
   "source": [
    "# Above steps are basic step for piping"
   ]
  },
  {
   "cell_type": "markdown",
   "id": "c1cbd786",
   "metadata": {},
   "source": [
    "# Ex2: Displaying a pipeline with standard scaler, dimesnionality reduction and then estimator"
   ]
  },
  {
   "cell_type": "code",
   "execution_count": 11,
   "id": "0c6965ce",
   "metadata": {},
   "outputs": [
    {
     "data": {
      "text/plain": [
       "array([0, 0, 1, 0, 0, 0, 0, 0, 1, 1, 1, 0, 0, 1, 1, 1, 0, 0, 1, 1, 1, 0,\n",
       "       0, 1, 1, 1, 0, 1, 0, 1, 0, 1, 0, 1, 0, 1, 1, 0, 0, 1, 1, 1, 0, 1,\n",
       "       1, 1, 0, 0, 0, 1, 1, 1, 1, 1, 0, 1, 0, 1, 0, 0, 1, 1, 1, 0, 0, 0,\n",
       "       0, 0, 1, 1, 1, 0, 0, 1, 0, 0, 1, 1, 0, 1, 0, 0, 1, 1, 1, 1, 0, 0,\n",
       "       1, 0, 1, 0, 0, 0, 1, 0, 0, 1, 1, 1, 0, 1, 1, 1, 1, 1, 0, 1, 0, 0,\n",
       "       0, 0, 0, 0, 0, 0, 0, 1, 0, 0, 0, 1, 0, 1, 0, 0, 1, 0, 1, 1, 0, 0,\n",
       "       0, 0, 0, 0, 0, 0, 0, 0, 1, 1, 1, 0, 1, 0, 1, 1, 0, 0, 1, 0, 0, 1,\n",
       "       1, 1, 1, 0, 1, 0, 0, 0, 0, 0, 1, 0, 0, 0, 1, 1, 1, 0, 1, 0, 1, 0,\n",
       "       1, 0, 1, 1, 0, 0, 1, 0, 1, 1, 0, 0, 0, 1, 0, 0, 1, 1, 1, 0, 0, 1,\n",
       "       0, 1, 0, 0, 1, 0, 0, 0, 1, 1, 1, 0, 1, 0, 0, 0, 0, 0, 1, 0, 0, 0,\n",
       "       1, 0, 1, 0, 0, 0, 0, 1, 1, 0, 0, 1, 1, 0, 0, 0, 0, 0, 0, 1, 0, 1,\n",
       "       0, 0, 0, 0, 0, 1, 0, 0, 0, 1, 0, 0, 1, 0, 1, 0, 0, 1, 0, 0, 0, 1,\n",
       "       0, 0, 1, 1, 1, 1, 0, 1, 0, 0, 0, 1, 0, 0, 0, 0, 1, 1, 1, 0, 1, 1,\n",
       "       1, 1, 0, 0, 1, 0, 0, 1, 0, 0, 0, 1, 0, 0, 1, 1, 0, 0, 0, 0, 1, 0,\n",
       "       0, 1, 1, 0, 0, 0, 0, 0, 0, 1, 1, 0, 1, 0, 0, 1, 0, 1, 0, 0, 1, 0])"
      ]
     },
     "execution_count": 11,
     "metadata": {},
     "output_type": "execute_result"
    }
   ],
   "source": [
    "#1. define steps\n",
    "steps=[(\"scaling\",StandardScaler()),\n",
    "      (\"PCA\",PCA(n_components=3)),\n",
    "      (\"SVC\",SVC())]\n",
    "\n",
    "#2. Add steps to pipeline & fit to train_set\n",
    "pipe2=Pipeline(steps)\n",
    "pipe2.fit(X_train,y_train)\n",
    "\n",
    "#3. Predict on test set\n",
    "pipe2.predict(X_test)\n"
   ]
  },
  {
   "cell_type": "markdown",
   "id": "6255761c",
   "metadata": {},
   "source": [
    "# Ex3: Comple pipeline of columns transformer"
   ]
  },
  {
   "cell_type": "code",
   "execution_count": 12,
   "id": "8455713d",
   "metadata": {},
   "outputs": [
    {
     "data": {
      "text/html": [
       "<style>#sk-545c02f9-7894-474d-8dcd-fc3a2c73cd0b {color: black;background-color: white;}#sk-545c02f9-7894-474d-8dcd-fc3a2c73cd0b pre{padding: 0;}#sk-545c02f9-7894-474d-8dcd-fc3a2c73cd0b div.sk-toggleable {background-color: white;}#sk-545c02f9-7894-474d-8dcd-fc3a2c73cd0b label.sk-toggleable__label {cursor: pointer;display: block;width: 100%;margin-bottom: 0;padding: 0.3em;box-sizing: border-box;text-align: center;}#sk-545c02f9-7894-474d-8dcd-fc3a2c73cd0b label.sk-toggleable__label-arrow:before {content: \"▸\";float: left;margin-right: 0.25em;color: #696969;}#sk-545c02f9-7894-474d-8dcd-fc3a2c73cd0b label.sk-toggleable__label-arrow:hover:before {color: black;}#sk-545c02f9-7894-474d-8dcd-fc3a2c73cd0b div.sk-estimator:hover label.sk-toggleable__label-arrow:before {color: black;}#sk-545c02f9-7894-474d-8dcd-fc3a2c73cd0b div.sk-toggleable__content {max-height: 0;max-width: 0;overflow: hidden;text-align: left;background-color: #f0f8ff;}#sk-545c02f9-7894-474d-8dcd-fc3a2c73cd0b div.sk-toggleable__content pre {margin: 0.2em;color: black;border-radius: 0.25em;background-color: #f0f8ff;}#sk-545c02f9-7894-474d-8dcd-fc3a2c73cd0b input.sk-toggleable__control:checked~div.sk-toggleable__content {max-height: 200px;max-width: 100%;overflow: auto;}#sk-545c02f9-7894-474d-8dcd-fc3a2c73cd0b input.sk-toggleable__control:checked~label.sk-toggleable__label-arrow:before {content: \"▾\";}#sk-545c02f9-7894-474d-8dcd-fc3a2c73cd0b div.sk-estimator input.sk-toggleable__control:checked~label.sk-toggleable__label {background-color: #d4ebff;}#sk-545c02f9-7894-474d-8dcd-fc3a2c73cd0b div.sk-label input.sk-toggleable__control:checked~label.sk-toggleable__label {background-color: #d4ebff;}#sk-545c02f9-7894-474d-8dcd-fc3a2c73cd0b input.sk-hidden--visually {border: 0;clip: rect(1px 1px 1px 1px);clip: rect(1px, 1px, 1px, 1px);height: 1px;margin: -1px;overflow: hidden;padding: 0;position: absolute;width: 1px;}#sk-545c02f9-7894-474d-8dcd-fc3a2c73cd0b div.sk-estimator {font-family: monospace;background-color: #f0f8ff;border: 1px dotted black;border-radius: 0.25em;box-sizing: border-box;margin-bottom: 0.5em;}#sk-545c02f9-7894-474d-8dcd-fc3a2c73cd0b div.sk-estimator:hover {background-color: #d4ebff;}#sk-545c02f9-7894-474d-8dcd-fc3a2c73cd0b div.sk-parallel-item::after {content: \"\";width: 100%;border-bottom: 1px solid gray;flex-grow: 1;}#sk-545c02f9-7894-474d-8dcd-fc3a2c73cd0b div.sk-label:hover label.sk-toggleable__label {background-color: #d4ebff;}#sk-545c02f9-7894-474d-8dcd-fc3a2c73cd0b div.sk-serial::before {content: \"\";position: absolute;border-left: 1px solid gray;box-sizing: border-box;top: 2em;bottom: 0;left: 50%;}#sk-545c02f9-7894-474d-8dcd-fc3a2c73cd0b div.sk-serial {display: flex;flex-direction: column;align-items: center;background-color: white;padding-right: 0.2em;padding-left: 0.2em;}#sk-545c02f9-7894-474d-8dcd-fc3a2c73cd0b div.sk-item {z-index: 1;}#sk-545c02f9-7894-474d-8dcd-fc3a2c73cd0b div.sk-parallel {display: flex;align-items: stretch;justify-content: center;background-color: white;}#sk-545c02f9-7894-474d-8dcd-fc3a2c73cd0b div.sk-parallel::before {content: \"\";position: absolute;border-left: 1px solid gray;box-sizing: border-box;top: 2em;bottom: 0;left: 50%;}#sk-545c02f9-7894-474d-8dcd-fc3a2c73cd0b div.sk-parallel-item {display: flex;flex-direction: column;position: relative;background-color: white;}#sk-545c02f9-7894-474d-8dcd-fc3a2c73cd0b div.sk-parallel-item:first-child::after {align-self: flex-end;width: 50%;}#sk-545c02f9-7894-474d-8dcd-fc3a2c73cd0b div.sk-parallel-item:last-child::after {align-self: flex-start;width: 50%;}#sk-545c02f9-7894-474d-8dcd-fc3a2c73cd0b div.sk-parallel-item:only-child::after {width: 0;}#sk-545c02f9-7894-474d-8dcd-fc3a2c73cd0b div.sk-dashed-wrapped {border: 1px dashed gray;margin: 0 0.4em 0.5em 0.4em;box-sizing: border-box;padding-bottom: 0.4em;background-color: white;position: relative;}#sk-545c02f9-7894-474d-8dcd-fc3a2c73cd0b div.sk-label label {font-family: monospace;font-weight: bold;background-color: white;display: inline-block;line-height: 1.2em;}#sk-545c02f9-7894-474d-8dcd-fc3a2c73cd0b div.sk-label-container {position: relative;z-index: 2;text-align: center;}#sk-545c02f9-7894-474d-8dcd-fc3a2c73cd0b div.sk-container {/* jupyter's `normalize.less` sets `[hidden] { display: none; }` but bootstrap.min.css set `[hidden] { display: none !important; }` so we also need the `!important` here to be able to override the default hidden behavior on the sphinx rendered scikit-learn.org. See: https://github.com/scikit-learn/scikit-learn/issues/21755 */display: inline-block !important;position: relative;}#sk-545c02f9-7894-474d-8dcd-fc3a2c73cd0b div.sk-text-repr-fallback {display: none;}</style><div id=\"sk-545c02f9-7894-474d-8dcd-fc3a2c73cd0b\" class=\"sk-top-container\"><div class=\"sk-text-repr-fallback\"><pre>Pipeline(steps=[(&#x27;imputation_mean&#x27;, SimpleImputer()),\n",
       "                (&#x27;scaler&#x27;, StandardScaler())])</pre><b>Please rerun this cell to show the HTML repr or trust the notebook.</b></div><div class=\"sk-container\" hidden><div class=\"sk-item sk-dashed-wrapped\"><div class=\"sk-label-container\"><div class=\"sk-label sk-toggleable\"><input class=\"sk-toggleable__control sk-hidden--visually\" id=\"4b8ef72c-b9f7-4d5f-a058-940016df5d71\" type=\"checkbox\" ><label for=\"4b8ef72c-b9f7-4d5f-a058-940016df5d71\" class=\"sk-toggleable__label sk-toggleable__label-arrow\">Pipeline</label><div class=\"sk-toggleable__content\"><pre>Pipeline(steps=[(&#x27;imputation_mean&#x27;, SimpleImputer()),\n",
       "                (&#x27;scaler&#x27;, StandardScaler())])</pre></div></div></div><div class=\"sk-serial\"><div class=\"sk-item\"><div class=\"sk-estimator sk-toggleable\"><input class=\"sk-toggleable__control sk-hidden--visually\" id=\"29042d08-970e-4d22-be7e-5eb60c2a06bc\" type=\"checkbox\" ><label for=\"29042d08-970e-4d22-be7e-5eb60c2a06bc\" class=\"sk-toggleable__label sk-toggleable__label-arrow\">SimpleImputer</label><div class=\"sk-toggleable__content\"><pre>SimpleImputer()</pre></div></div></div><div class=\"sk-item\"><div class=\"sk-estimator sk-toggleable\"><input class=\"sk-toggleable__control sk-hidden--visually\" id=\"287b00f4-5f58-4a83-9aa8-89ceaab9db82\" type=\"checkbox\" ><label for=\"287b00f4-5f58-4a83-9aa8-89ceaab9db82\" class=\"sk-toggleable__label sk-toggleable__label-arrow\">StandardScaler</label><div class=\"sk-toggleable__content\"><pre>StandardScaler()</pre></div></div></div></div></div></div></div>"
      ],
      "text/plain": [
       "Pipeline(steps=[('imputation_mean', SimpleImputer()),\n",
       "                ('scaler', StandardScaler())])"
      ]
     },
     "execution_count": 12,
     "metadata": {},
     "output_type": "execute_result"
    }
   ],
   "source": [
    "numeric_processor=Pipeline(\n",
    "    steps=[(\"imputation_mean\",SimpleImputer(missing_values=np.nan,strategy=\"mean\")),\n",
    "          (\"scaler\",StandardScaler())]\n",
    ")\n",
    "numeric_processor"
   ]
  },
  {
   "cell_type": "code",
   "execution_count": 13,
   "id": "5f672ce9",
   "metadata": {},
   "outputs": [
    {
     "data": {
      "text/html": [
       "<style>#sk-0fe34998-9116-4ea6-ad06-4b01d6e65e18 {color: black;background-color: white;}#sk-0fe34998-9116-4ea6-ad06-4b01d6e65e18 pre{padding: 0;}#sk-0fe34998-9116-4ea6-ad06-4b01d6e65e18 div.sk-toggleable {background-color: white;}#sk-0fe34998-9116-4ea6-ad06-4b01d6e65e18 label.sk-toggleable__label {cursor: pointer;display: block;width: 100%;margin-bottom: 0;padding: 0.3em;box-sizing: border-box;text-align: center;}#sk-0fe34998-9116-4ea6-ad06-4b01d6e65e18 label.sk-toggleable__label-arrow:before {content: \"▸\";float: left;margin-right: 0.25em;color: #696969;}#sk-0fe34998-9116-4ea6-ad06-4b01d6e65e18 label.sk-toggleable__label-arrow:hover:before {color: black;}#sk-0fe34998-9116-4ea6-ad06-4b01d6e65e18 div.sk-estimator:hover label.sk-toggleable__label-arrow:before {color: black;}#sk-0fe34998-9116-4ea6-ad06-4b01d6e65e18 div.sk-toggleable__content {max-height: 0;max-width: 0;overflow: hidden;text-align: left;background-color: #f0f8ff;}#sk-0fe34998-9116-4ea6-ad06-4b01d6e65e18 div.sk-toggleable__content pre {margin: 0.2em;color: black;border-radius: 0.25em;background-color: #f0f8ff;}#sk-0fe34998-9116-4ea6-ad06-4b01d6e65e18 input.sk-toggleable__control:checked~div.sk-toggleable__content {max-height: 200px;max-width: 100%;overflow: auto;}#sk-0fe34998-9116-4ea6-ad06-4b01d6e65e18 input.sk-toggleable__control:checked~label.sk-toggleable__label-arrow:before {content: \"▾\";}#sk-0fe34998-9116-4ea6-ad06-4b01d6e65e18 div.sk-estimator input.sk-toggleable__control:checked~label.sk-toggleable__label {background-color: #d4ebff;}#sk-0fe34998-9116-4ea6-ad06-4b01d6e65e18 div.sk-label input.sk-toggleable__control:checked~label.sk-toggleable__label {background-color: #d4ebff;}#sk-0fe34998-9116-4ea6-ad06-4b01d6e65e18 input.sk-hidden--visually {border: 0;clip: rect(1px 1px 1px 1px);clip: rect(1px, 1px, 1px, 1px);height: 1px;margin: -1px;overflow: hidden;padding: 0;position: absolute;width: 1px;}#sk-0fe34998-9116-4ea6-ad06-4b01d6e65e18 div.sk-estimator {font-family: monospace;background-color: #f0f8ff;border: 1px dotted black;border-radius: 0.25em;box-sizing: border-box;margin-bottom: 0.5em;}#sk-0fe34998-9116-4ea6-ad06-4b01d6e65e18 div.sk-estimator:hover {background-color: #d4ebff;}#sk-0fe34998-9116-4ea6-ad06-4b01d6e65e18 div.sk-parallel-item::after {content: \"\";width: 100%;border-bottom: 1px solid gray;flex-grow: 1;}#sk-0fe34998-9116-4ea6-ad06-4b01d6e65e18 div.sk-label:hover label.sk-toggleable__label {background-color: #d4ebff;}#sk-0fe34998-9116-4ea6-ad06-4b01d6e65e18 div.sk-serial::before {content: \"\";position: absolute;border-left: 1px solid gray;box-sizing: border-box;top: 2em;bottom: 0;left: 50%;}#sk-0fe34998-9116-4ea6-ad06-4b01d6e65e18 div.sk-serial {display: flex;flex-direction: column;align-items: center;background-color: white;padding-right: 0.2em;padding-left: 0.2em;}#sk-0fe34998-9116-4ea6-ad06-4b01d6e65e18 div.sk-item {z-index: 1;}#sk-0fe34998-9116-4ea6-ad06-4b01d6e65e18 div.sk-parallel {display: flex;align-items: stretch;justify-content: center;background-color: white;}#sk-0fe34998-9116-4ea6-ad06-4b01d6e65e18 div.sk-parallel::before {content: \"\";position: absolute;border-left: 1px solid gray;box-sizing: border-box;top: 2em;bottom: 0;left: 50%;}#sk-0fe34998-9116-4ea6-ad06-4b01d6e65e18 div.sk-parallel-item {display: flex;flex-direction: column;position: relative;background-color: white;}#sk-0fe34998-9116-4ea6-ad06-4b01d6e65e18 div.sk-parallel-item:first-child::after {align-self: flex-end;width: 50%;}#sk-0fe34998-9116-4ea6-ad06-4b01d6e65e18 div.sk-parallel-item:last-child::after {align-self: flex-start;width: 50%;}#sk-0fe34998-9116-4ea6-ad06-4b01d6e65e18 div.sk-parallel-item:only-child::after {width: 0;}#sk-0fe34998-9116-4ea6-ad06-4b01d6e65e18 div.sk-dashed-wrapped {border: 1px dashed gray;margin: 0 0.4em 0.5em 0.4em;box-sizing: border-box;padding-bottom: 0.4em;background-color: white;position: relative;}#sk-0fe34998-9116-4ea6-ad06-4b01d6e65e18 div.sk-label label {font-family: monospace;font-weight: bold;background-color: white;display: inline-block;line-height: 1.2em;}#sk-0fe34998-9116-4ea6-ad06-4b01d6e65e18 div.sk-label-container {position: relative;z-index: 2;text-align: center;}#sk-0fe34998-9116-4ea6-ad06-4b01d6e65e18 div.sk-container {/* jupyter's `normalize.less` sets `[hidden] { display: none; }` but bootstrap.min.css set `[hidden] { display: none !important; }` so we also need the `!important` here to be able to override the default hidden behavior on the sphinx rendered scikit-learn.org. See: https://github.com/scikit-learn/scikit-learn/issues/21755 */display: inline-block !important;position: relative;}#sk-0fe34998-9116-4ea6-ad06-4b01d6e65e18 div.sk-text-repr-fallback {display: none;}</style><div id=\"sk-0fe34998-9116-4ea6-ad06-4b01d6e65e18\" class=\"sk-top-container\"><div class=\"sk-text-repr-fallback\"><pre>Pipeline(steps=[(&#x27;imputation_consatnt&#x27;,\n",
       "                 SimpleImputer(fill_value=&#x27;missing&#x27;, strategy=&#x27;constant&#x27;)),\n",
       "                (&#x27;onehot&#x27;, OneHotEncoder(handle_unknown=&#x27;ignore&#x27;))])</pre><b>Please rerun this cell to show the HTML repr or trust the notebook.</b></div><div class=\"sk-container\" hidden><div class=\"sk-item sk-dashed-wrapped\"><div class=\"sk-label-container\"><div class=\"sk-label sk-toggleable\"><input class=\"sk-toggleable__control sk-hidden--visually\" id=\"8a006b19-17a0-4566-b77b-01254969530f\" type=\"checkbox\" ><label for=\"8a006b19-17a0-4566-b77b-01254969530f\" class=\"sk-toggleable__label sk-toggleable__label-arrow\">Pipeline</label><div class=\"sk-toggleable__content\"><pre>Pipeline(steps=[(&#x27;imputation_consatnt&#x27;,\n",
       "                 SimpleImputer(fill_value=&#x27;missing&#x27;, strategy=&#x27;constant&#x27;)),\n",
       "                (&#x27;onehot&#x27;, OneHotEncoder(handle_unknown=&#x27;ignore&#x27;))])</pre></div></div></div><div class=\"sk-serial\"><div class=\"sk-item\"><div class=\"sk-estimator sk-toggleable\"><input class=\"sk-toggleable__control sk-hidden--visually\" id=\"981465c4-f742-40c5-b890-c33f57ee30ca\" type=\"checkbox\" ><label for=\"981465c4-f742-40c5-b890-c33f57ee30ca\" class=\"sk-toggleable__label sk-toggleable__label-arrow\">SimpleImputer</label><div class=\"sk-toggleable__content\"><pre>SimpleImputer(fill_value=&#x27;missing&#x27;, strategy=&#x27;constant&#x27;)</pre></div></div></div><div class=\"sk-item\"><div class=\"sk-estimator sk-toggleable\"><input class=\"sk-toggleable__control sk-hidden--visually\" id=\"a5104fac-afd5-4135-b17a-f1a42180f73b\" type=\"checkbox\" ><label for=\"a5104fac-afd5-4135-b17a-f1a42180f73b\" class=\"sk-toggleable__label sk-toggleable__label-arrow\">OneHotEncoder</label><div class=\"sk-toggleable__content\"><pre>OneHotEncoder(handle_unknown=&#x27;ignore&#x27;)</pre></div></div></div></div></div></div></div>"
      ],
      "text/plain": [
       "Pipeline(steps=[('imputation_consatnt',\n",
       "                 SimpleImputer(fill_value='missing', strategy='constant')),\n",
       "                ('onehot', OneHotEncoder(handle_unknown='ignore'))])"
      ]
     },
     "execution_count": 13,
     "metadata": {},
     "output_type": "execute_result"
    }
   ],
   "source": [
    "##categorical procesing pipeline\n",
    "categorical_processor=Pipeline(\n",
    "    steps=[(\"imputation_consatnt\",SimpleImputer(fill_value=\"missing\",strategy=\"constant\")),\n",
    "          (\"onehot\",OneHotEncoder(handle_unknown=\"ignore\"))]\n",
    "\n",
    ")\n",
    "categorical_processor"
   ]
  },
  {
   "cell_type": "code",
   "execution_count": 15,
   "id": "4fa05db6",
   "metadata": {},
   "outputs": [
    {
     "data": {
      "text/html": [
       "<style>#sk-57239cd4-93cd-4758-b28b-422cae23b468 {color: black;background-color: white;}#sk-57239cd4-93cd-4758-b28b-422cae23b468 pre{padding: 0;}#sk-57239cd4-93cd-4758-b28b-422cae23b468 div.sk-toggleable {background-color: white;}#sk-57239cd4-93cd-4758-b28b-422cae23b468 label.sk-toggleable__label {cursor: pointer;display: block;width: 100%;margin-bottom: 0;padding: 0.3em;box-sizing: border-box;text-align: center;}#sk-57239cd4-93cd-4758-b28b-422cae23b468 label.sk-toggleable__label-arrow:before {content: \"▸\";float: left;margin-right: 0.25em;color: #696969;}#sk-57239cd4-93cd-4758-b28b-422cae23b468 label.sk-toggleable__label-arrow:hover:before {color: black;}#sk-57239cd4-93cd-4758-b28b-422cae23b468 div.sk-estimator:hover label.sk-toggleable__label-arrow:before {color: black;}#sk-57239cd4-93cd-4758-b28b-422cae23b468 div.sk-toggleable__content {max-height: 0;max-width: 0;overflow: hidden;text-align: left;background-color: #f0f8ff;}#sk-57239cd4-93cd-4758-b28b-422cae23b468 div.sk-toggleable__content pre {margin: 0.2em;color: black;border-radius: 0.25em;background-color: #f0f8ff;}#sk-57239cd4-93cd-4758-b28b-422cae23b468 input.sk-toggleable__control:checked~div.sk-toggleable__content {max-height: 200px;max-width: 100%;overflow: auto;}#sk-57239cd4-93cd-4758-b28b-422cae23b468 input.sk-toggleable__control:checked~label.sk-toggleable__label-arrow:before {content: \"▾\";}#sk-57239cd4-93cd-4758-b28b-422cae23b468 div.sk-estimator input.sk-toggleable__control:checked~label.sk-toggleable__label {background-color: #d4ebff;}#sk-57239cd4-93cd-4758-b28b-422cae23b468 div.sk-label input.sk-toggleable__control:checked~label.sk-toggleable__label {background-color: #d4ebff;}#sk-57239cd4-93cd-4758-b28b-422cae23b468 input.sk-hidden--visually {border: 0;clip: rect(1px 1px 1px 1px);clip: rect(1px, 1px, 1px, 1px);height: 1px;margin: -1px;overflow: hidden;padding: 0;position: absolute;width: 1px;}#sk-57239cd4-93cd-4758-b28b-422cae23b468 div.sk-estimator {font-family: monospace;background-color: #f0f8ff;border: 1px dotted black;border-radius: 0.25em;box-sizing: border-box;margin-bottom: 0.5em;}#sk-57239cd4-93cd-4758-b28b-422cae23b468 div.sk-estimator:hover {background-color: #d4ebff;}#sk-57239cd4-93cd-4758-b28b-422cae23b468 div.sk-parallel-item::after {content: \"\";width: 100%;border-bottom: 1px solid gray;flex-grow: 1;}#sk-57239cd4-93cd-4758-b28b-422cae23b468 div.sk-label:hover label.sk-toggleable__label {background-color: #d4ebff;}#sk-57239cd4-93cd-4758-b28b-422cae23b468 div.sk-serial::before {content: \"\";position: absolute;border-left: 1px solid gray;box-sizing: border-box;top: 2em;bottom: 0;left: 50%;}#sk-57239cd4-93cd-4758-b28b-422cae23b468 div.sk-serial {display: flex;flex-direction: column;align-items: center;background-color: white;padding-right: 0.2em;padding-left: 0.2em;}#sk-57239cd4-93cd-4758-b28b-422cae23b468 div.sk-item {z-index: 1;}#sk-57239cd4-93cd-4758-b28b-422cae23b468 div.sk-parallel {display: flex;align-items: stretch;justify-content: center;background-color: white;}#sk-57239cd4-93cd-4758-b28b-422cae23b468 div.sk-parallel::before {content: \"\";position: absolute;border-left: 1px solid gray;box-sizing: border-box;top: 2em;bottom: 0;left: 50%;}#sk-57239cd4-93cd-4758-b28b-422cae23b468 div.sk-parallel-item {display: flex;flex-direction: column;position: relative;background-color: white;}#sk-57239cd4-93cd-4758-b28b-422cae23b468 div.sk-parallel-item:first-child::after {align-self: flex-end;width: 50%;}#sk-57239cd4-93cd-4758-b28b-422cae23b468 div.sk-parallel-item:last-child::after {align-self: flex-start;width: 50%;}#sk-57239cd4-93cd-4758-b28b-422cae23b468 div.sk-parallel-item:only-child::after {width: 0;}#sk-57239cd4-93cd-4758-b28b-422cae23b468 div.sk-dashed-wrapped {border: 1px dashed gray;margin: 0 0.4em 0.5em 0.4em;box-sizing: border-box;padding-bottom: 0.4em;background-color: white;position: relative;}#sk-57239cd4-93cd-4758-b28b-422cae23b468 div.sk-label label {font-family: monospace;font-weight: bold;background-color: white;display: inline-block;line-height: 1.2em;}#sk-57239cd4-93cd-4758-b28b-422cae23b468 div.sk-label-container {position: relative;z-index: 2;text-align: center;}#sk-57239cd4-93cd-4758-b28b-422cae23b468 div.sk-container {/* jupyter's `normalize.less` sets `[hidden] { display: none; }` but bootstrap.min.css set `[hidden] { display: none !important; }` so we also need the `!important` here to be able to override the default hidden behavior on the sphinx rendered scikit-learn.org. See: https://github.com/scikit-learn/scikit-learn/issues/21755 */display: inline-block !important;position: relative;}#sk-57239cd4-93cd-4758-b28b-422cae23b468 div.sk-text-repr-fallback {display: none;}</style><div id=\"sk-57239cd4-93cd-4758-b28b-422cae23b468\" class=\"sk-top-container\"><div class=\"sk-text-repr-fallback\"><pre>ColumnTransformer(transformers=[(&#x27;categorical&#x27;,\n",
       "                                 Pipeline(steps=[(&#x27;imputation_consatnt&#x27;,\n",
       "                                                  SimpleImputer(fill_value=&#x27;missing&#x27;,\n",
       "                                                                strategy=&#x27;constant&#x27;)),\n",
       "                                                 (&#x27;onehot&#x27;,\n",
       "                                                  OneHotEncoder(handle_unknown=&#x27;ignore&#x27;))]),\n",
       "                                 [&#x27;gender&#x27;, &#x27;City&#x27;]),\n",
       "                                (&#x27;numerical&#x27;,\n",
       "                                 Pipeline(steps=[(&#x27;imputation_mean&#x27;,\n",
       "                                                  SimpleImputer()),\n",
       "                                                 (&#x27;scaler&#x27;, StandardScaler())]),\n",
       "                                 [&#x27;age&#x27;, &#x27;height&#x27;])])</pre><b>Please rerun this cell to show the HTML repr or trust the notebook.</b></div><div class=\"sk-container\" hidden><div class=\"sk-item sk-dashed-wrapped\"><div class=\"sk-label-container\"><div class=\"sk-label sk-toggleable\"><input class=\"sk-toggleable__control sk-hidden--visually\" id=\"2179ea0d-3ee9-490d-b668-0d2d27156f99\" type=\"checkbox\" ><label for=\"2179ea0d-3ee9-490d-b668-0d2d27156f99\" class=\"sk-toggleable__label sk-toggleable__label-arrow\">ColumnTransformer</label><div class=\"sk-toggleable__content\"><pre>ColumnTransformer(transformers=[(&#x27;categorical&#x27;,\n",
       "                                 Pipeline(steps=[(&#x27;imputation_consatnt&#x27;,\n",
       "                                                  SimpleImputer(fill_value=&#x27;missing&#x27;,\n",
       "                                                                strategy=&#x27;constant&#x27;)),\n",
       "                                                 (&#x27;onehot&#x27;,\n",
       "                                                  OneHotEncoder(handle_unknown=&#x27;ignore&#x27;))]),\n",
       "                                 [&#x27;gender&#x27;, &#x27;City&#x27;]),\n",
       "                                (&#x27;numerical&#x27;,\n",
       "                                 Pipeline(steps=[(&#x27;imputation_mean&#x27;,\n",
       "                                                  SimpleImputer()),\n",
       "                                                 (&#x27;scaler&#x27;, StandardScaler())]),\n",
       "                                 [&#x27;age&#x27;, &#x27;height&#x27;])])</pre></div></div></div><div class=\"sk-parallel\"><div class=\"sk-parallel-item\"><div class=\"sk-item\"><div class=\"sk-label-container\"><div class=\"sk-label sk-toggleable\"><input class=\"sk-toggleable__control sk-hidden--visually\" id=\"42d97bac-098c-4689-ab3c-5ba1d0513f07\" type=\"checkbox\" ><label for=\"42d97bac-098c-4689-ab3c-5ba1d0513f07\" class=\"sk-toggleable__label sk-toggleable__label-arrow\">categorical</label><div class=\"sk-toggleable__content\"><pre>[&#x27;gender&#x27;, &#x27;City&#x27;]</pre></div></div></div><div class=\"sk-serial\"><div class=\"sk-item\"><div class=\"sk-serial\"><div class=\"sk-item\"><div class=\"sk-estimator sk-toggleable\"><input class=\"sk-toggleable__control sk-hidden--visually\" id=\"68f286a0-45f9-408a-bebc-5e5754ffbc6e\" type=\"checkbox\" ><label for=\"68f286a0-45f9-408a-bebc-5e5754ffbc6e\" class=\"sk-toggleable__label sk-toggleable__label-arrow\">SimpleImputer</label><div class=\"sk-toggleable__content\"><pre>SimpleImputer(fill_value=&#x27;missing&#x27;, strategy=&#x27;constant&#x27;)</pre></div></div></div><div class=\"sk-item\"><div class=\"sk-estimator sk-toggleable\"><input class=\"sk-toggleable__control sk-hidden--visually\" id=\"ea913672-0a41-4a8c-ad1d-3833aa33afa1\" type=\"checkbox\" ><label for=\"ea913672-0a41-4a8c-ad1d-3833aa33afa1\" class=\"sk-toggleable__label sk-toggleable__label-arrow\">OneHotEncoder</label><div class=\"sk-toggleable__content\"><pre>OneHotEncoder(handle_unknown=&#x27;ignore&#x27;)</pre></div></div></div></div></div></div></div></div><div class=\"sk-parallel-item\"><div class=\"sk-item\"><div class=\"sk-label-container\"><div class=\"sk-label sk-toggleable\"><input class=\"sk-toggleable__control sk-hidden--visually\" id=\"2b26914c-12f0-40d1-bad2-84a58a7e81c1\" type=\"checkbox\" ><label for=\"2b26914c-12f0-40d1-bad2-84a58a7e81c1\" class=\"sk-toggleable__label sk-toggleable__label-arrow\">numerical</label><div class=\"sk-toggleable__content\"><pre>[&#x27;age&#x27;, &#x27;height&#x27;]</pre></div></div></div><div class=\"sk-serial\"><div class=\"sk-item\"><div class=\"sk-serial\"><div class=\"sk-item\"><div class=\"sk-estimator sk-toggleable\"><input class=\"sk-toggleable__control sk-hidden--visually\" id=\"710bc82f-d400-441c-91b6-ea18bbdd42b3\" type=\"checkbox\" ><label for=\"710bc82f-d400-441c-91b6-ea18bbdd42b3\" class=\"sk-toggleable__label sk-toggleable__label-arrow\">SimpleImputer</label><div class=\"sk-toggleable__content\"><pre>SimpleImputer()</pre></div></div></div><div class=\"sk-item\"><div class=\"sk-estimator sk-toggleable\"><input class=\"sk-toggleable__control sk-hidden--visually\" id=\"4d1a5213-64c4-4863-9a96-d09dea19ebc2\" type=\"checkbox\" ><label for=\"4d1a5213-64c4-4863-9a96-d09dea19ebc2\" class=\"sk-toggleable__label sk-toggleable__label-arrow\">StandardScaler</label><div class=\"sk-toggleable__content\"><pre>StandardScaler()</pre></div></div></div></div></div></div></div></div></div></div></div></div>"
      ],
      "text/plain": [
       "ColumnTransformer(transformers=[('categorical',\n",
       "                                 Pipeline(steps=[('imputation_consatnt',\n",
       "                                                  SimpleImputer(fill_value='missing',\n",
       "                                                                strategy='constant')),\n",
       "                                                 ('onehot',\n",
       "                                                  OneHotEncoder(handle_unknown='ignore'))]),\n",
       "                                 ['gender', 'City']),\n",
       "                                ('numerical',\n",
       "                                 Pipeline(steps=[('imputation_mean',\n",
       "                                                  SimpleImputer()),\n",
       "                                                 ('scaler', StandardScaler())]),\n",
       "                                 ['age', 'height'])])"
      ]
     },
     "execution_count": 15,
     "metadata": {},
     "output_type": "execute_result"
    }
   ],
   "source": [
    "preprocessor=ColumnTransformer(\n",
    "    [(\"categorical\",categorical_processor,[\"gender\",\"City\"]),\n",
    "    (\"numerical\",numeric_processor,[\"age\",\"height\"])]\n",
    ")\n",
    "preprocessor"
   ]
  },
  {
   "cell_type": "code",
   "execution_count": 16,
   "id": "9a508a80",
   "metadata": {},
   "outputs": [
    {
     "data": {
      "text/html": [
       "<style>#sk-8bf7d189-037a-473a-9883-8174945a1b85 {color: black;background-color: white;}#sk-8bf7d189-037a-473a-9883-8174945a1b85 pre{padding: 0;}#sk-8bf7d189-037a-473a-9883-8174945a1b85 div.sk-toggleable {background-color: white;}#sk-8bf7d189-037a-473a-9883-8174945a1b85 label.sk-toggleable__label {cursor: pointer;display: block;width: 100%;margin-bottom: 0;padding: 0.3em;box-sizing: border-box;text-align: center;}#sk-8bf7d189-037a-473a-9883-8174945a1b85 label.sk-toggleable__label-arrow:before {content: \"▸\";float: left;margin-right: 0.25em;color: #696969;}#sk-8bf7d189-037a-473a-9883-8174945a1b85 label.sk-toggleable__label-arrow:hover:before {color: black;}#sk-8bf7d189-037a-473a-9883-8174945a1b85 div.sk-estimator:hover label.sk-toggleable__label-arrow:before {color: black;}#sk-8bf7d189-037a-473a-9883-8174945a1b85 div.sk-toggleable__content {max-height: 0;max-width: 0;overflow: hidden;text-align: left;background-color: #f0f8ff;}#sk-8bf7d189-037a-473a-9883-8174945a1b85 div.sk-toggleable__content pre {margin: 0.2em;color: black;border-radius: 0.25em;background-color: #f0f8ff;}#sk-8bf7d189-037a-473a-9883-8174945a1b85 input.sk-toggleable__control:checked~div.sk-toggleable__content {max-height: 200px;max-width: 100%;overflow: auto;}#sk-8bf7d189-037a-473a-9883-8174945a1b85 input.sk-toggleable__control:checked~label.sk-toggleable__label-arrow:before {content: \"▾\";}#sk-8bf7d189-037a-473a-9883-8174945a1b85 div.sk-estimator input.sk-toggleable__control:checked~label.sk-toggleable__label {background-color: #d4ebff;}#sk-8bf7d189-037a-473a-9883-8174945a1b85 div.sk-label input.sk-toggleable__control:checked~label.sk-toggleable__label {background-color: #d4ebff;}#sk-8bf7d189-037a-473a-9883-8174945a1b85 input.sk-hidden--visually {border: 0;clip: rect(1px 1px 1px 1px);clip: rect(1px, 1px, 1px, 1px);height: 1px;margin: -1px;overflow: hidden;padding: 0;position: absolute;width: 1px;}#sk-8bf7d189-037a-473a-9883-8174945a1b85 div.sk-estimator {font-family: monospace;background-color: #f0f8ff;border: 1px dotted black;border-radius: 0.25em;box-sizing: border-box;margin-bottom: 0.5em;}#sk-8bf7d189-037a-473a-9883-8174945a1b85 div.sk-estimator:hover {background-color: #d4ebff;}#sk-8bf7d189-037a-473a-9883-8174945a1b85 div.sk-parallel-item::after {content: \"\";width: 100%;border-bottom: 1px solid gray;flex-grow: 1;}#sk-8bf7d189-037a-473a-9883-8174945a1b85 div.sk-label:hover label.sk-toggleable__label {background-color: #d4ebff;}#sk-8bf7d189-037a-473a-9883-8174945a1b85 div.sk-serial::before {content: \"\";position: absolute;border-left: 1px solid gray;box-sizing: border-box;top: 2em;bottom: 0;left: 50%;}#sk-8bf7d189-037a-473a-9883-8174945a1b85 div.sk-serial {display: flex;flex-direction: column;align-items: center;background-color: white;padding-right: 0.2em;padding-left: 0.2em;}#sk-8bf7d189-037a-473a-9883-8174945a1b85 div.sk-item {z-index: 1;}#sk-8bf7d189-037a-473a-9883-8174945a1b85 div.sk-parallel {display: flex;align-items: stretch;justify-content: center;background-color: white;}#sk-8bf7d189-037a-473a-9883-8174945a1b85 div.sk-parallel::before {content: \"\";position: absolute;border-left: 1px solid gray;box-sizing: border-box;top: 2em;bottom: 0;left: 50%;}#sk-8bf7d189-037a-473a-9883-8174945a1b85 div.sk-parallel-item {display: flex;flex-direction: column;position: relative;background-color: white;}#sk-8bf7d189-037a-473a-9883-8174945a1b85 div.sk-parallel-item:first-child::after {align-self: flex-end;width: 50%;}#sk-8bf7d189-037a-473a-9883-8174945a1b85 div.sk-parallel-item:last-child::after {align-self: flex-start;width: 50%;}#sk-8bf7d189-037a-473a-9883-8174945a1b85 div.sk-parallel-item:only-child::after {width: 0;}#sk-8bf7d189-037a-473a-9883-8174945a1b85 div.sk-dashed-wrapped {border: 1px dashed gray;margin: 0 0.4em 0.5em 0.4em;box-sizing: border-box;padding-bottom: 0.4em;background-color: white;position: relative;}#sk-8bf7d189-037a-473a-9883-8174945a1b85 div.sk-label label {font-family: monospace;font-weight: bold;background-color: white;display: inline-block;line-height: 1.2em;}#sk-8bf7d189-037a-473a-9883-8174945a1b85 div.sk-label-container {position: relative;z-index: 2;text-align: center;}#sk-8bf7d189-037a-473a-9883-8174945a1b85 div.sk-container {/* jupyter's `normalize.less` sets `[hidden] { display: none; }` but bootstrap.min.css set `[hidden] { display: none !important; }` so we also need the `!important` here to be able to override the default hidden behavior on the sphinx rendered scikit-learn.org. See: https://github.com/scikit-learn/scikit-learn/issues/21755 */display: inline-block !important;position: relative;}#sk-8bf7d189-037a-473a-9883-8174945a1b85 div.sk-text-repr-fallback {display: none;}</style><div id=\"sk-8bf7d189-037a-473a-9883-8174945a1b85\" class=\"sk-top-container\"><div class=\"sk-text-repr-fallback\"><pre>Pipeline(steps=[(&#x27;columntransformer&#x27;,\n",
       "                 ColumnTransformer(transformers=[(&#x27;categorical&#x27;,\n",
       "                                                  Pipeline(steps=[(&#x27;imputation_consatnt&#x27;,\n",
       "                                                                   SimpleImputer(fill_value=&#x27;missing&#x27;,\n",
       "                                                                                 strategy=&#x27;constant&#x27;)),\n",
       "                                                                  (&#x27;onehot&#x27;,\n",
       "                                                                   OneHotEncoder(handle_unknown=&#x27;ignore&#x27;))]),\n",
       "                                                  [&#x27;gender&#x27;, &#x27;City&#x27;]),\n",
       "                                                 (&#x27;numerical&#x27;,\n",
       "                                                  Pipeline(steps=[(&#x27;imputation_mean&#x27;,\n",
       "                                                                   SimpleImputer()),\n",
       "                                                                  (&#x27;scaler&#x27;,\n",
       "                                                                   StandardScaler())]),\n",
       "                                                  [&#x27;age&#x27;, &#x27;height&#x27;])])),\n",
       "                (&#x27;logisticregression&#x27;, LogisticRegression())])</pre><b>Please rerun this cell to show the HTML repr or trust the notebook.</b></div><div class=\"sk-container\" hidden><div class=\"sk-item sk-dashed-wrapped\"><div class=\"sk-label-container\"><div class=\"sk-label sk-toggleable\"><input class=\"sk-toggleable__control sk-hidden--visually\" id=\"65bcd21c-c2ab-44a6-896d-a01d82b91ce1\" type=\"checkbox\" ><label for=\"65bcd21c-c2ab-44a6-896d-a01d82b91ce1\" class=\"sk-toggleable__label sk-toggleable__label-arrow\">Pipeline</label><div class=\"sk-toggleable__content\"><pre>Pipeline(steps=[(&#x27;columntransformer&#x27;,\n",
       "                 ColumnTransformer(transformers=[(&#x27;categorical&#x27;,\n",
       "                                                  Pipeline(steps=[(&#x27;imputation_consatnt&#x27;,\n",
       "                                                                   SimpleImputer(fill_value=&#x27;missing&#x27;,\n",
       "                                                                                 strategy=&#x27;constant&#x27;)),\n",
       "                                                                  (&#x27;onehot&#x27;,\n",
       "                                                                   OneHotEncoder(handle_unknown=&#x27;ignore&#x27;))]),\n",
       "                                                  [&#x27;gender&#x27;, &#x27;City&#x27;]),\n",
       "                                                 (&#x27;numerical&#x27;,\n",
       "                                                  Pipeline(steps=[(&#x27;imputation_mean&#x27;,\n",
       "                                                                   SimpleImputer()),\n",
       "                                                                  (&#x27;scaler&#x27;,\n",
       "                                                                   StandardScaler())]),\n",
       "                                                  [&#x27;age&#x27;, &#x27;height&#x27;])])),\n",
       "                (&#x27;logisticregression&#x27;, LogisticRegression())])</pre></div></div></div><div class=\"sk-serial\"><div class=\"sk-item sk-dashed-wrapped\"><div class=\"sk-label-container\"><div class=\"sk-label sk-toggleable\"><input class=\"sk-toggleable__control sk-hidden--visually\" id=\"16a847b3-7aee-4733-981c-4afcae49f09f\" type=\"checkbox\" ><label for=\"16a847b3-7aee-4733-981c-4afcae49f09f\" class=\"sk-toggleable__label sk-toggleable__label-arrow\">columntransformer: ColumnTransformer</label><div class=\"sk-toggleable__content\"><pre>ColumnTransformer(transformers=[(&#x27;categorical&#x27;,\n",
       "                                 Pipeline(steps=[(&#x27;imputation_consatnt&#x27;,\n",
       "                                                  SimpleImputer(fill_value=&#x27;missing&#x27;,\n",
       "                                                                strategy=&#x27;constant&#x27;)),\n",
       "                                                 (&#x27;onehot&#x27;,\n",
       "                                                  OneHotEncoder(handle_unknown=&#x27;ignore&#x27;))]),\n",
       "                                 [&#x27;gender&#x27;, &#x27;City&#x27;]),\n",
       "                                (&#x27;numerical&#x27;,\n",
       "                                 Pipeline(steps=[(&#x27;imputation_mean&#x27;,\n",
       "                                                  SimpleImputer()),\n",
       "                                                 (&#x27;scaler&#x27;, StandardScaler())]),\n",
       "                                 [&#x27;age&#x27;, &#x27;height&#x27;])])</pre></div></div></div><div class=\"sk-parallel\"><div class=\"sk-parallel-item\"><div class=\"sk-item\"><div class=\"sk-label-container\"><div class=\"sk-label sk-toggleable\"><input class=\"sk-toggleable__control sk-hidden--visually\" id=\"0e8600a3-2124-401f-8a19-076118f06dea\" type=\"checkbox\" ><label for=\"0e8600a3-2124-401f-8a19-076118f06dea\" class=\"sk-toggleable__label sk-toggleable__label-arrow\">categorical</label><div class=\"sk-toggleable__content\"><pre>[&#x27;gender&#x27;, &#x27;City&#x27;]</pre></div></div></div><div class=\"sk-serial\"><div class=\"sk-item\"><div class=\"sk-serial\"><div class=\"sk-item\"><div class=\"sk-estimator sk-toggleable\"><input class=\"sk-toggleable__control sk-hidden--visually\" id=\"f656a5ed-4e66-4395-abff-1ec84fdb89b8\" type=\"checkbox\" ><label for=\"f656a5ed-4e66-4395-abff-1ec84fdb89b8\" class=\"sk-toggleable__label sk-toggleable__label-arrow\">SimpleImputer</label><div class=\"sk-toggleable__content\"><pre>SimpleImputer(fill_value=&#x27;missing&#x27;, strategy=&#x27;constant&#x27;)</pre></div></div></div><div class=\"sk-item\"><div class=\"sk-estimator sk-toggleable\"><input class=\"sk-toggleable__control sk-hidden--visually\" id=\"e7a42cc4-ba6e-4733-9a39-2fe2962a0466\" type=\"checkbox\" ><label for=\"e7a42cc4-ba6e-4733-9a39-2fe2962a0466\" class=\"sk-toggleable__label sk-toggleable__label-arrow\">OneHotEncoder</label><div class=\"sk-toggleable__content\"><pre>OneHotEncoder(handle_unknown=&#x27;ignore&#x27;)</pre></div></div></div></div></div></div></div></div><div class=\"sk-parallel-item\"><div class=\"sk-item\"><div class=\"sk-label-container\"><div class=\"sk-label sk-toggleable\"><input class=\"sk-toggleable__control sk-hidden--visually\" id=\"17e473a1-02c3-4fda-9211-9606465f8636\" type=\"checkbox\" ><label for=\"17e473a1-02c3-4fda-9211-9606465f8636\" class=\"sk-toggleable__label sk-toggleable__label-arrow\">numerical</label><div class=\"sk-toggleable__content\"><pre>[&#x27;age&#x27;, &#x27;height&#x27;]</pre></div></div></div><div class=\"sk-serial\"><div class=\"sk-item\"><div class=\"sk-serial\"><div class=\"sk-item\"><div class=\"sk-estimator sk-toggleable\"><input class=\"sk-toggleable__control sk-hidden--visually\" id=\"d3a5b006-c324-4f15-826a-a8dbe0f4e6da\" type=\"checkbox\" ><label for=\"d3a5b006-c324-4f15-826a-a8dbe0f4e6da\" class=\"sk-toggleable__label sk-toggleable__label-arrow\">SimpleImputer</label><div class=\"sk-toggleable__content\"><pre>SimpleImputer()</pre></div></div></div><div class=\"sk-item\"><div class=\"sk-estimator sk-toggleable\"><input class=\"sk-toggleable__control sk-hidden--visually\" id=\"fd443d91-4be0-44ad-b89f-99bf945b5a52\" type=\"checkbox\" ><label for=\"fd443d91-4be0-44ad-b89f-99bf945b5a52\" class=\"sk-toggleable__label sk-toggleable__label-arrow\">StandardScaler</label><div class=\"sk-toggleable__content\"><pre>StandardScaler()</pre></div></div></div></div></div></div></div></div></div></div><div class=\"sk-item\"><div class=\"sk-estimator sk-toggleable\"><input class=\"sk-toggleable__control sk-hidden--visually\" id=\"d5d5749b-5834-4a2a-8164-a55d47bbc822\" type=\"checkbox\" ><label for=\"d5d5749b-5834-4a2a-8164-a55d47bbc822\" class=\"sk-toggleable__label sk-toggleable__label-arrow\">LogisticRegression</label><div class=\"sk-toggleable__content\"><pre>LogisticRegression()</pre></div></div></div></div></div></div></div>"
      ],
      "text/plain": [
       "Pipeline(steps=[('columntransformer',\n",
       "                 ColumnTransformer(transformers=[('categorical',\n",
       "                                                  Pipeline(steps=[('imputation_consatnt',\n",
       "                                                                   SimpleImputer(fill_value='missing',\n",
       "                                                                                 strategy='constant')),\n",
       "                                                                  ('onehot',\n",
       "                                                                   OneHotEncoder(handle_unknown='ignore'))]),\n",
       "                                                  ['gender', 'City']),\n",
       "                                                 ('numerical',\n",
       "                                                  Pipeline(steps=[('imputation_mean',\n",
       "                                                                   SimpleImputer()),\n",
       "                                                                  ('scaler',\n",
       "                                                                   StandardScaler())]),\n",
       "                                                  ['age', 'height'])])),\n",
       "                ('logisticregression', LogisticRegression())])"
      ]
     },
     "execution_count": 16,
     "metadata": {},
     "output_type": "execute_result"
    }
   ],
   "source": [
    "pipe=make_pipeline(preprocessor,LogisticRegression())\n",
    "pipe"
   ]
  },
  {
   "cell_type": "code",
   "execution_count": null,
   "id": "a60e2d05",
   "metadata": {},
   "outputs": [],
   "source": []
  },
  {
   "cell_type": "code",
   "execution_count": null,
   "id": "644f93b2",
   "metadata": {},
   "outputs": [],
   "source": []
  },
  {
   "cell_type": "code",
   "execution_count": null,
   "id": "a82475d7",
   "metadata": {},
   "outputs": [],
   "source": []
  }
 ],
 "metadata": {
  "kernelspec": {
   "display_name": "Python 3 (ipykernel)",
   "language": "python",
   "name": "python3"
  },
  "language_info": {
   "codemirror_mode": {
    "name": "ipython",
    "version": 3
   },
   "file_extension": ".py",
   "mimetype": "text/x-python",
   "name": "python",
   "nbconvert_exporter": "python",
   "pygments_lexer": "ipython3",
   "version": "3.9.13"
  }
 },
 "nbformat": 4,
 "nbformat_minor": 5
}
